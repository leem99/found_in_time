{
 "cells": [
  {
   "cell_type": "markdown",
   "metadata": {},
   "source": [
    "## Create test and training folders for initial CNN"
   ]
  },
  {
   "cell_type": "code",
   "execution_count": 1,
   "metadata": {
    "collapsed": true
   },
   "outputs": [],
   "source": [
    "import numpy as np\n",
    "import pandas as pd\n",
    "\n",
    "import os\n",
    "from shutil import copyfile\n",
    "\n",
    "\n",
    "from sklearn.model_selection import train_test_split\n",
    "from sklearn.preprocessing import LabelEncoder"
   ]
  },
  {
   "cell_type": "code",
   "execution_count": 2,
   "metadata": {
    "collapsed": true
   },
   "outputs": [],
   "source": [
    "#watch_df = pd.read_csv('all_watch_info.csv')\n",
    "#watch_df = pd.read_csv('all_watch_info.csv')\n",
    "watch_df = pd.read_csv('all_watch_info_with_indicators.csv')"
   ]
  },
  {
   "cell_type": "code",
   "execution_count": null,
   "metadata": {
    "collapsed": true
   },
   "outputs": [],
   "source": []
  },
  {
   "cell_type": "code",
   "execution_count": 3,
   "metadata": {
    "collapsed": true
   },
   "outputs": [],
   "source": [
    "#watch_df.groupby('image_url').count().sort_values('brand',ascending = False)"
   ]
  },
  {
   "cell_type": "markdown",
   "metadata": {},
   "source": [
    "Lets start something that *seems* simple ... whether the watch is on a braclet or strap"
   ]
  },
  {
   "cell_type": "code",
   "execution_count": 4,
   "metadata": {
    "collapsed": true
   },
   "outputs": [],
   "source": [
    "X = watch_df[['new_image_name','image_name','gender']]\n",
    "y = watch_df['gender']\n",
    "#y = watch_df['shape_simple']"
   ]
  },
  {
   "cell_type": "code",
   "execution_count": 5,
   "metadata": {
    "collapsed": true
   },
   "outputs": [],
   "source": [
    "# 0 = womens\n",
    "# 1 = mens\n",
    "\n",
    "y = watch_df['is_male']"
   ]
  },
  {
   "cell_type": "markdown",
   "metadata": {},
   "source": [
    "Uncomment this code "
   ]
  },
  {
   "cell_type": "code",
   "execution_count": 6,
   "metadata": {
    "collapsed": true
   },
   "outputs": [],
   "source": [
    "X_train, X_test, y_train, y_test = train_test_split(\n",
    "    X, y, test_size=0.3, random_state=42)"
   ]
  },
  {
   "cell_type": "markdown",
   "metadata": {},
   "source": [
    "Build Directories"
   ]
  },
  {
   "cell_type": "code",
   "execution_count": 7,
   "metadata": {
    "collapsed": true
   },
   "outputs": [],
   "source": [
    "# feature = 'band_data'\n",
    "# positive = 'strap'\n",
    "# null = 'bracelet'\n",
    "\n",
    "feature = 'multi_class_testing'\n",
    "positive = 'male'\n",
    "null = 'female'"
   ]
  },
  {
   "cell_type": "code",
   "execution_count": 8,
   "metadata": {
    "collapsed": true
   },
   "outputs": [],
   "source": [
    "def copy_train_test(feature,positive,null):\n",
    "\n",
    "    # Build folders\n",
    "    try:\n",
    "        os.stat(feature)\n",
    "    except:\n",
    "        os.mkdir(feature) \n",
    "\n",
    "    # Train Data Paths\n",
    "    try:\n",
    "        os.stat(feature + '/train/')\n",
    "    except:\n",
    "        os.mkdir(feature + '/train/')   \n",
    "\n",
    "    try:\n",
    "        os.stat(feature + '/train/'+positive)\n",
    "    except:\n",
    "        os.mkdir(feature + '/train/'+positive)     \n",
    "\n",
    "\n",
    "    try:\n",
    "        os.stat(feature + '/train/'+null)\n",
    "    except:\n",
    "        os.mkdir(feature + '/train/'+null)      \n",
    "\n",
    "\n",
    "    # Test Data Paths  \n",
    "    try:\n",
    "        os.stat(feature + '/test/')\n",
    "    except:\n",
    "        os.mkdir(feature + '/test/')   \n",
    "\n",
    "    try:\n",
    "        os.stat(feature + '/test/'+positive)\n",
    "    except:\n",
    "        os.mkdir(feature + '/test/'+positive)     \n",
    "\n",
    "\n",
    "    try:\n",
    "        os.stat(feature + '/test/'+null)\n",
    "    except:\n",
    "        os.mkdir(feature + '/test/'+null)      \n",
    "\n",
    "\n",
    "\n",
    "    # Make Copies for Train Data\n",
    "    for ix, val in enumerate(y_train):\n",
    "\n",
    "        if X_train.iloc[ix,:]['gender'] == 'mens':\n",
    "            f_path = 'prestige_time_pics_mens/'\n",
    "        else:\n",
    "            f_path = 'prestige_time_pics_womens/'\n",
    "\n",
    "        f_name_old = X_train.iloc[ix,:]['image_name'] + '.jpg'\n",
    "        f_name_new = X_train.iloc[ix,:]['new_image_name'] + '.jpg'\n",
    "\n",
    "        if val == 1:\n",
    "            f_out = feature+'/train/'+positive+'/'+f_name_new\n",
    "        else:\n",
    "            f_out = feature+'/train/'+null+'/'+f_name_new\n",
    "\n",
    "        copyfile(f_path+f_name_old,f_out)\n",
    "\n",
    "\n",
    "    # Make copies for test data    \n",
    "    for ix, val in enumerate(y_test):\n",
    "\n",
    "        if X_test.iloc[ix,:]['gender'] == 'mens':\n",
    "            f_path = 'prestige_time_pics_mens/'\n",
    "        else:\n",
    "            f_path = 'prestige_time_pics_womens/'\n",
    "\n",
    "        f_name_old = X_test.iloc[ix,:]['image_name'] + '.jpg'\n",
    "        f_name_new = X_test.iloc[ix,:]['new_image_name'] + '.jpg'\n",
    "\n",
    "        if val == 1:\n",
    "            f_out = feature+'/test/'+positive+'/'+f_name_new\n",
    "        else:\n",
    "            f_out = feature+'/test/'+null+'/'+f_name_new\n",
    "\n",
    "        copyfile(f_path+f_name_old,f_out)"
   ]
  },
  {
   "cell_type": "code",
   "execution_count": 9,
   "metadata": {
    "collapsed": true
   },
   "outputs": [],
   "source": [
    "copy_train_test(feature,positive,null)"
   ]
  },
  {
   "cell_type": "code",
   "execution_count": null,
   "metadata": {
    "collapsed": true
   },
   "outputs": [],
   "source": []
  }
 ],
 "metadata": {
  "kernelspec": {
   "display_name": "Python 3",
   "language": "python",
   "name": "python3"
  },
  "language_info": {
   "codemirror_mode": {
    "name": "ipython",
    "version": 3
   },
   "file_extension": ".py",
   "mimetype": "text/x-python",
   "name": "python",
   "nbconvert_exporter": "python",
   "pygments_lexer": "ipython3",
   "version": "3.6.1"
  }
 },
 "nbformat": 4,
 "nbformat_minor": 2
}
