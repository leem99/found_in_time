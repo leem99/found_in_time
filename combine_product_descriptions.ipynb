{
 "cells": [
  {
   "cell_type": "markdown",
   "metadata": {},
   "source": [
    "## Clean Up Watch Description Data for Modeling"
   ]
  },
  {
   "cell_type": "code",
   "execution_count": 1,
   "metadata": {
    "collapsed": true
   },
   "outputs": [],
   "source": [
    "import pandas as pd\n",
    "import numpy as np\n",
    "import matplotlib.pyplot as plt\n",
    "from copy import deepcopy\n",
    "\n",
    "pd.set_option(\"display.max_columns\",None)\n",
    "%matplotlib inline"
   ]
  },
  {
   "cell_type": "markdown",
   "metadata": {},
   "source": [
    "\"Main\" Watch Info"
   ]
  },
  {
   "cell_type": "code",
   "execution_count": 2,
   "metadata": {
    "collapsed": true
   },
   "outputs": [],
   "source": [
    "mens = pd.read_csv('watch_page_list_mens.csv')\n",
    "womens = pd.read_csv('watch_page_list_womens.csv')"
   ]
  },
  {
   "cell_type": "markdown",
   "metadata": {},
   "source": [
    "Additional Info from Watch's Page"
   ]
  },
  {
   "cell_type": "code",
   "execution_count": 3,
   "metadata": {
    "collapsed": true
   },
   "outputs": [],
   "source": [
    "mens_additional = pd.read_csv('additional_stats_mens.csv')\n",
    "womens_additional = pd.read_csv('additional_stats_womens.csv')"
   ]
  },
  {
   "cell_type": "markdown",
   "metadata": {},
   "source": [
    "Approx Number of Unique Mens Watches"
   ]
  },
  {
   "cell_type": "code",
   "execution_count": 4,
   "metadata": {},
   "outputs": [
    {
     "data": {
      "text/plain": [
       "6501"
      ]
     },
     "execution_count": 4,
     "metadata": {},
     "output_type": "execute_result"
    }
   ],
   "source": [
    "len(mens['image_url'].unique())"
   ]
  },
  {
   "cell_type": "markdown",
   "metadata": {},
   "source": [
    "__Explore Product Details__ \n",
    "\n",
    "Combine all data into a single DF"
   ]
  },
  {
   "cell_type": "code",
   "execution_count": 5,
   "metadata": {
    "collapsed": true
   },
   "outputs": [],
   "source": [
    "mens_combo = mens.merge(mens_additional,how='inner',on='url')\n",
    "womens_combo = womens.merge(womens_additional,how='inner',on='url')\n",
    "\n",
    "# Add a Gender Label\n",
    "mens_combo['gender'] = 'mens'\n",
    "womens_combo['gender'] = 'womens'\n",
    "\n",
    "combo = mens_combo.append(womens_combo)"
   ]
  },
  {
   "cell_type": "markdown",
   "metadata": {},
   "source": [
    "Exclude Listings Without Photo"
   ]
  },
  {
   "cell_type": "code",
   "execution_count": 6,
   "metadata": {
    "collapsed": true
   },
   "outputs": [],
   "source": [
    "combo = combo.loc[\n",
    "    combo['image_url']!='https://www.prestigetime.com/images/watches/pic-unavailable_main.jpg',:]"
   ]
  },
  {
   "cell_type": "markdown",
   "metadata": {},
   "source": [
    "Exclude \"Erotic\" Watches with blocked out photos"
   ]
  },
  {
   "cell_type": "code",
   "execution_count": 7,
   "metadata": {
    "collapsed": true
   },
   "outputs": [],
   "source": [
    "bad_list= ['PerreletTurbine44mmA40204TURBINEEROTIC',\n",
    " 'PerreletTurbine44mmA40211TURBINEEROTIC']\n",
    "\n",
    "combo = combo.loc[combo['image_name'].isin(bad_list) == False,:]"
   ]
  },
  {
   "cell_type": "markdown",
   "metadata": {},
   "source": [
    "Exclude watches that have the exact same picture as another watch"
   ]
  },
  {
   "cell_type": "code",
   "execution_count": 8,
   "metadata": {
    "collapsed": true
   },
   "outputs": [],
   "source": [
    "combo = combo.groupby('image_url').first().reset_index()"
   ]
  },
  {
   "cell_type": "markdown",
   "metadata": {},
   "source": [
    "### Let's Make Simplified Product Descriptions"
   ]
  },
  {
   "cell_type": "markdown",
   "metadata": {},
   "source": [
    "#### Create Additional labels"
   ]
  },
  {
   "cell_type": "code",
   "execution_count": 9,
   "metadata": {
    "collapsed": true
   },
   "outputs": [],
   "source": [
    "strap_words = ['Alligator & Rubber','Alligator/Crocodile Leather','Calfskin Leather',\n",
    "              'Fabric','Leather','Ostrich','Python Leather','Rubber','Satin','Stingray']"
   ]
  },
  {
   "cell_type": "markdown",
   "metadata": {},
   "source": [
    "For Now, white gold and platinum will be considered \"stainless steel\". Watches with any yellow, or rose gold, will be considered \"gold.\""
   ]
  },
  {
   "cell_type": "code",
   "execution_count": 10,
   "metadata": {
    "collapsed": true
   },
   "outputs": [],
   "source": [
    "gold_words = ['18kt Rose Gold','Stainless Steel & Rose Gold',\n",
    "             '18kt Yellow Gold','18kt Everose Gold','Gold Plated',\n",
    "             'Stainless Steel & Plated Rose Gold','Stainless Steel & Plated Yellow Gold',\n",
    "             'Stainless Steel & Gold','Titanium & Rose Gold',\n",
    "             '18kt Honey Gold','18kt Rose & White Gold',\n",
    "             'Ceramic and Gold']\n",
    "\n",
    "silver_words = ['Stainless Steel',\n",
    "    'Stainless Steel & Gold',\n",
    "    'Stainless Steel & Plated Rose Gold',\n",
    "    'Stainless Steel & Plated Yellow Gold',\n",
    "    'Stainless Steel & Rose Gold',\n",
    "    'Stainless Steel & Yellow Gold',\n",
    "    'Stainless Steel Brushed & Polished',\n",
    "    'Titanium',\n",
    "    'Titanium & Platinum',\n",
    "    'Titanium & Rose Gold',\n",
    "    'Titanium & Steel',\n",
    "    'Titanium & White Gold',\n",
    "    '18kt White Gold',\n",
    "    'PVD & Steel',\n",
    "    'Platinum']"
   ]
  },
  {
   "cell_type": "code",
   "execution_count": 11,
   "metadata": {
    "collapsed": true
   },
   "outputs": [],
   "source": [
    "combo['is_gold']  = [1 if material in gold_words else 0 for material in combo['Case Material'] ]\n",
    "combo['is_silver']  = [1 if material in silver_words else 0 for material in combo['Case Material'] ]"
   ]
  },
  {
   "cell_type": "markdown",
   "metadata": {},
   "source": [
    "Strap or Braclet"
   ]
  },
  {
   "cell_type": "code",
   "execution_count": 12,
   "metadata": {
    "collapsed": true
   },
   "outputs": [],
   "source": [
    "combo['is_strap']  = [1 if material in strap_words else 0 for material in combo['Band Material'] ]"
   ]
  },
  {
   "cell_type": "markdown",
   "metadata": {},
   "source": [
    "Lets do the same for shapes"
   ]
  },
  {
   "cell_type": "code",
   "execution_count": 13,
   "metadata": {
    "collapsed": true
   },
   "outputs": [],
   "source": [
    "# Indicator Variables for Shape\n",
    "square_words = ['square','rectangle','tonneau']\n",
    "combo['is_square'] = [1 if shape in square_words else 0 for shape in combo['Case Shape']]\n",
    "combo['is_round'] = [1 if shape == 'Round' else 0 for shape in combo['Case Shape']]"
   ]
  },
  {
   "cell_type": "markdown",
   "metadata": {},
   "source": [
    "Rotating or Fixed Bezel"
   ]
  },
  {
   "cell_type": "code",
   "execution_count": 14,
   "metadata": {
    "collapsed": true
   },
   "outputs": [],
   "source": [
    "fixed_bezel_words = ['None','Fixed']\n",
    "rotating_bezel_words = ['Bi-Directional Rotating','Uni-Directional Rotating']\n",
    "\n",
    "combo['is_rotating'] = [\n",
    "    1 if bezel in rotating_bezel_words else 0 for bezel in combo['Bezel']]"
   ]
  },
  {
   "cell_type": "markdown",
   "metadata": {},
   "source": [
    "Chronograph"
   ]
  },
  {
   "cell_type": "code",
   "execution_count": 15,
   "metadata": {},
   "outputs": [],
   "source": [
    "combo['Complications'].fillna('None',inplace=True)"
   ]
  },
  {
   "cell_type": "code",
   "execution_count": 16,
   "metadata": {},
   "outputs": [],
   "source": [
    "combo['is_chronograph'] = [\n",
    "1 if 'Chronograph' in complication else 0 for complication in combo['Complications']]"
   ]
  },
  {
   "cell_type": "markdown",
   "metadata": {},
   "source": [
    "Gender of Watch"
   ]
  },
  {
   "cell_type": "code",
   "execution_count": 17,
   "metadata": {
    "collapsed": true
   },
   "outputs": [],
   "source": [
    "combo['is_male'] = [1 if gender == 'mens' else 0 for gender in combo['gender']]"
   ]
  },
  {
   "cell_type": "markdown",
   "metadata": {},
   "source": [
    "__Make Hashed File Names__\n",
    "\n",
    "My work around for using \"flow_from_directory\" in Keras for multilable data requires that the pictures are in order. However, this is problematic because each batch will be highly correlated with itself (file names are alphabetical by brand, brands tend to have consistant designs.\n",
    "\n",
    "Thus, I will randomize the file names while keeping track of which new names, corresponds to which watch."
   ]
  },
  {
   "cell_type": "code",
   "execution_count": 18,
   "metadata": {},
   "outputs": [],
   "source": [
    "chars = list(map(str,list(range(0,10000))))\n",
    "new_names = list(combo['image_name'])\n",
    "new_names = [np.random.choice(chars) +'_'+ n for n in new_names]\n",
    "combo['new_image_name'] = new_names"
   ]
  },
  {
   "cell_type": "markdown",
   "metadata": {},
   "source": [
    "### Save Combined Data Frame"
   ]
  },
  {
   "cell_type": "code",
   "execution_count": 21,
   "metadata": {
    "collapsed": true
   },
   "outputs": [],
   "source": [
    "combo.to_csv('all_watch_info_with_indicators.csv',index = False)"
   ]
  },
  {
   "cell_type": "code",
   "execution_count": null,
   "metadata": {
    "collapsed": true
   },
   "outputs": [],
   "source": []
  }
 ],
 "metadata": {
  "kernelspec": {
   "display_name": "Python 3",
   "language": "python",
   "name": "python3"
  },
  "language_info": {
   "codemirror_mode": {
    "name": "ipython",
    "version": 3
   },
   "file_extension": ".py",
   "mimetype": "text/x-python",
   "name": "python",
   "nbconvert_exporter": "python",
   "pygments_lexer": "ipython3",
   "version": "3.6.1"
  }
 },
 "nbformat": 4,
 "nbformat_minor": 2
}
