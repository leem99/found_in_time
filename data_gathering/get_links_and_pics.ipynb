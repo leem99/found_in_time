{
 "cells": [
  {
   "cell_type": "markdown",
   "metadata": {},
   "source": [
    "## Get Links and Images\n",
    "\n",
    "* Script goes through the watch listing pages such as [here](https://www.prestigetime.com/luxury-watches-for-men.html).\n",
    "* Download all of the watch pictures\n",
    "* Get links for all individual watch pages (so that I can go back later and get more watch attributes).\n",
    "* Save basic watch attributes to a csv.\n",
    "\n",
    "Note: Due to the structure of the PrestigeTime website, code is run seperately for men's and womens watches."
   ]
  },
  {
   "cell_type": "code",
   "execution_count": 3,
   "metadata": {
    "collapsed": true
   },
   "outputs": [],
   "source": [
    "# General Libraries\n",
    "import os\n",
    "import re\n",
    "import time\n",
    "import csv\n",
    "\n",
    "# Analysis Libraries\n",
    "import numpy as np\n",
    "import pandas as pd\n",
    "\n",
    "# Scraping Libraries\n",
    "from bs4 import BeautifulSoup\n",
    "import requests\n",
    "from fake_useragent import UserAgent"
   ]
  },
  {
   "cell_type": "markdown",
   "metadata": {},
   "source": [
    "Randomize Me to Prevent Getting Blocked"
   ]
  },
  {
   "cell_type": "code",
   "execution_count": 1,
   "metadata": {
    "collapsed": true
   },
   "outputs": [],
   "source": [
    "def random_soup(url):\n",
    "    us = UserAgent()\n",
    "    user_agent = {'User-Agent':us.random}\n",
    "    response = requests.get(url,headers = user_agent)\n",
    "    page = response.text\n",
    "    soup = BeautifulSoup(page,\"lxml\")\n",
    "    return soup"
   ]
  },
  {
   "cell_type": "markdown",
   "metadata": {},
   "source": [
    "__Loop through all of the pages__"
   ]
  },
  {
   "cell_type": "code",
   "execution_count": null,
   "metadata": {},
   "outputs": [
    {
     "name": "stdout",
     "output_type": "stream",
     "text": [
      "1\n",
      "2\n",
      "3\n",
      "4\n",
      "5\n",
      "6\n"
     ]
    }
   ],
   "source": [
    "#Get all Watch Links (Not Previously Saved)\n",
    "#num_pages = 158 #mens\n",
    "num_pages = 127 #womens\n",
    "watch_list = []\n",
    "for ix in range(1,num_pages+1):\n",
    "    time.sleep(1+np.random.uniform(0,2)) \n",
    "    #listing_soup = random_soup('https://www.prestigetime.com/luxury-watches-for-men.html&page='+str(ix))\n",
    "    listing_soup = random_soup('https://www.prestigetime.com/luxury-watches-for-women.html&page='+str(ix))\n",
    "    listings = listing_soup.find_all('div',class_='thumbnail thumbnail-center')\n",
    "\n",
    "    for listing in listings:\n",
    "\n",
    "        watch_dict = dict()\n",
    "        #URL\n",
    "        watch_dict['url'] = listing.find('a')['href']\n",
    "\n",
    "        #Image URL\n",
    "        watch_dict['image_url'] = listing.find('img')['src']\n",
    "\n",
    "        #Brand\n",
    "        watch_dict['brand'] = listing.find('strong').text.strip()\n",
    "\n",
    "        # Model Name \n",
    "        watch_dict['model_name'] = listing.find('span',id=re.compile(\"series-\")).text.strip()\n",
    "\n",
    "        # Model Number\n",
    "        watch_dict['model_num'] = listing.find('span',id=re.compile(\"model_no\")).text.strip()\n",
    "\n",
    "        #Price\n",
    "        price = listing.find('div',class_=\"caption-bottom\").text\n",
    "        price = price.split(':')[1]\n",
    "        price = price.replace(',','')\n",
    "        price = re.findall(r\"(\\d+)\\.(\\d+)\", price)\n",
    "        try:\n",
    "            price = float(price[0][0] +'.'+ price[0][1])\n",
    "        except:\n",
    "            IndexError\n",
    "            price = np.nan\n",
    "\n",
    "        watch_dict['price'] = price \n",
    "\n",
    "\n",
    "        # Image Name\n",
    "        image_name = watch_dict['brand'] + watch_dict['model_name'] + watch_dict['model_num']\n",
    "        image_name = re.sub('[^0-9a-zA-Z]+', '', image_name)\n",
    "        watch_dict['image_name'] = image_name\n",
    "\n",
    "        watch_list.append(watch_dict)\n",
    "\n",
    "        if image_name+'.jpg' not in os.listdir('prestige_time_pics/'):\n",
    "            # Download Image\n",
    "            us = UserAgent()\n",
    "            user_agent = {'User-Agent':us.random}\n",
    "\n",
    "            time.sleep(1+np.random.uniform(0,2)) \n",
    "            response = requests.get(watch_dict['image_url'],headers = user_agent)\n",
    "            #f = open('../prestige_time_pics_mens/'+image_name+'.jpg','wb')\n",
    "            f = open('../prestige_time_pics_womens/'+image_name+'.jpg','wb')\n",
    "            f.write(requests.get(watch_dict['image_url']).content)\n",
    "            f.close()\n",
    "\n",
    "    print(ix)"
   ]
  },
  {
   "cell_type": "markdown",
   "metadata": {},
   "source": [
    "__Save Summaries to CSV__"
   ]
  },
  {
   "cell_type": "code",
   "execution_count": null,
   "metadata": {
    "collapsed": true
   },
   "outputs": [],
   "source": [
    "watch_DF = pd.DataFrame(watch_list)\n",
    "watch_DF.to_csv('watch_page_list_womens.csv',index=False)\n",
    "#watch_DF.to_csv('watch_page_list_mens.csv',index=False)"
   ]
  },
  {
   "cell_type": "code",
   "execution_count": null,
   "metadata": {
    "collapsed": true
   },
   "outputs": [],
   "source": []
  }
 ],
 "metadata": {
  "kernelspec": {
   "display_name": "Python 3",
   "language": "python",
   "name": "python3"
  },
  "language_info": {
   "codemirror_mode": {
    "name": "ipython",
    "version": 3
   },
   "file_extension": ".py",
   "mimetype": "text/x-python",
   "name": "python",
   "nbconvert_exporter": "python",
   "pygments_lexer": "ipython3",
   "version": "3.6.1"
  }
 },
 "nbformat": 4,
 "nbformat_minor": 2
}
