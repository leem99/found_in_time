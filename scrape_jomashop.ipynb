{
 "cells": [
  {
   "cell_type": "markdown",
   "metadata": {},
   "source": [
    "First Attempt at Scraping Jomashop"
   ]
  },
  {
   "cell_type": "code",
   "execution_count": 3,
   "metadata": {
    "collapsed": true
   },
   "outputs": [],
   "source": [
    "# General Libraries\n",
    "import os\n",
    "import re\n",
    "import time\n",
    "import csv\n",
    "\n",
    "# Analysis Libraries\n",
    "import numpy as np\n",
    "import pandas as pd\n",
    "\n",
    "# Scraping Libraries\n",
    "from bs4 import BeautifulSoup\n",
    "import requests\n",
    "from fake_useragent import UserAgent"
   ]
  },
  {
   "cell_type": "markdown",
   "metadata": {},
   "source": [
    "Randomize Me to Prevent Getting Blocked"
   ]
  },
  {
   "cell_type": "code",
   "execution_count": 1,
   "metadata": {
    "collapsed": true
   },
   "outputs": [],
   "source": [
    "def random_soup(url):\n",
    "    us = UserAgent()\n",
    "    user_agent = {'User-Agent':us.random}\n",
    "    response = requests.get(url,headers = user_agent)\n",
    "    page = response.text\n",
    "    soup = BeautifulSoup(page,\"lxml\")\n",
    "    return soup"
   ]
  },
  {
   "cell_type": "markdown",
   "metadata": {},
   "source": [
    "__Testing Jomashop__"
   ]
  },
  {
   "cell_type": "code",
   "execution_count": 3,
   "metadata": {
    "collapsed": true
   },
   "outputs": [],
   "source": [
    "watch_soup = random_soup('https://www.jomashop.com/seiko-watch-sur158p1.html')"
   ]
  },
  {
   "cell_type": "code",
   "execution_count": null,
   "metadata": {
    "collapsed": true
   },
   "outputs": [],
   "source": []
  },
  {
   "cell_type": "markdown",
   "metadata": {},
   "source": [
    "Get Table of Watch Stats"
   ]
  },
  {
   "cell_type": "code",
   "execution_count": 4,
   "metadata": {
    "collapsed": true
   },
   "outputs": [],
   "source": [
    "watch_stats = watch_soup.find_all('span',class_='data')"
   ]
  },
  {
   "cell_type": "code",
   "execution_count": 5,
   "metadata": {
    "collapsed": true
   },
   "outputs": [],
   "source": [
    "watch_dict = dict()\n",
    "for stat in watch_stats:\n",
    "    watch_dict[stat['id']] = stat.text.replace('\\n','').strip()"
   ]
  },
  {
   "cell_type": "markdown",
   "metadata": {},
   "source": [
    "Get links to all pictures"
   ]
  },
  {
   "cell_type": "code",
   "execution_count": 6,
   "metadata": {
    "collapsed": true
   },
   "outputs": [],
   "source": [
    "image_links = watch_soup.find_all('a',href = re.compile('jpg'))"
   ]
  },
  {
   "cell_type": "code",
   "execution_count": 7,
   "metadata": {
    "collapsed": true
   },
   "outputs": [],
   "source": [
    "# f = open('00000001.jpg','wb')\n",
    "# f.write(requests.get('http://www.gunnerkrigg.com//comics/00000001.jpg').content)\n",
    "# f.close()"
   ]
  },
  {
   "cell_type": "markdown",
   "metadata": {},
   "source": [
    "__ Testing Pretige Time__"
   ]
  },
  {
   "cell_type": "code",
   "execution_count": null,
   "metadata": {},
   "outputs": [
    {
     "name": "stdout",
     "output_type": "stream",
     "text": [
      "1\n",
      "2\n",
      "3\n",
      "4\n",
      "5\n",
      "6\n"
     ]
    }
   ],
   "source": [
    "\n",
    "#Get all Watch Links (Not Previously Saved)\n",
    "#num_pages = 158\n",
    "num_pages = 127\n",
    "watch_list = []\n",
    "for ix in range(1,num_pages+1):\n",
    "    time.sleep(1+np.random.uniform(0,2)) \n",
    "    #listing_soup = random_soup('https://www.prestigetime.com/luxury-watches-for-men.html&page='+str(ix))\n",
    "    listing_soup = random_soup('https://www.prestigetime.com/luxury-watches-for-women.html&page='+str(ix))\n",
    "    listings = listing_soup.find_all('div',class_='thumbnail thumbnail-center')\n",
    "\n",
    "    for listing in listings:\n",
    "\n",
    "        watch_dict = dict()\n",
    "        #URL\n",
    "        watch_dict['url'] = listing.find('a')['href']\n",
    "\n",
    "        #Image URL\n",
    "        watch_dict['image_url'] = listing.find('img')['src']\n",
    "\n",
    "        #Brand\n",
    "        watch_dict['brand'] = listing.find('strong').text.strip()\n",
    "\n",
    "        # Model Name \n",
    "        watch_dict['model_name'] = listing.find('span',id=re.compile(\"series-\")).text.strip()\n",
    "\n",
    "        # Model Number\n",
    "        watch_dict['model_num'] = listing.find('span',id=re.compile(\"model_no\")).text.strip()\n",
    "\n",
    "        #Price\n",
    "        price = listing.find('div',class_=\"caption-bottom\").text\n",
    "        price = price.split(':')[1]\n",
    "        price = price.replace(',','')\n",
    "        price = re.findall(r\"(\\d+)\\.(\\d+)\", price)\n",
    "        try:\n",
    "            price = float(price[0][0] +'.'+ price[0][1])\n",
    "        except:\n",
    "            IndexError\n",
    "            price = np.nan\n",
    "\n",
    "        watch_dict['price'] = price \n",
    "\n",
    "\n",
    "        # Image Name\n",
    "        image_name = watch_dict['brand'] + watch_dict['model_name'] + watch_dict['model_num']\n",
    "        image_name = re.sub('[^0-9a-zA-Z]+', '', image_name)\n",
    "        watch_dict['image_name'] = image_name\n",
    "\n",
    "        watch_list.append(watch_dict)\n",
    "\n",
    "        if image_name+'.jpg' not in os.listdir('prestige_time_pics/'):\n",
    "            # Download Image\n",
    "            us = UserAgent()\n",
    "            user_agent = {'User-Agent':us.random}\n",
    "\n",
    "            time.sleep(1+np.random.uniform(0,2)) \n",
    "            response = requests.get(watch_dict['image_url'],headers = user_agent)\n",
    "            #f = open('prestige_time_pics/'+image_name+'.jpg','wb')\n",
    "            f = open('prestige_time_pics_womens/'+image_name+'.jpg','wb')\n",
    "            f.write(requests.get(watch_dict['image_url']).content)\n",
    "            f.close()\n",
    "\n",
    "    print(ix)"
   ]
  },
  {
   "cell_type": "code",
   "execution_count": null,
   "metadata": {
    "collapsed": true
   },
   "outputs": [],
   "source": [
    "watch_DF = pd.DataFrame(watch_list)\n",
    "watch_DF.to_csv('watch_page_list_womens.csv',index=False)"
   ]
  },
  {
   "cell_type": "markdown",
   "metadata": {},
   "source": [
    "Test Individual Watch Listings"
   ]
  },
  {
   "cell_type": "code",
   "execution_count": null,
   "metadata": {},
   "outputs": [],
   "source": []
  },
  {
   "cell_type": "code",
   "execution_count": null,
   "metadata": {
    "collapsed": true
   },
   "outputs": [],
   "source": [
    "watch_soup = random_soup(listing_links[501])"
   ]
  },
  {
   "cell_type": "code",
   "execution_count": null,
   "metadata": {
    "collapsed": true
   },
   "outputs": [],
   "source": [
    "stats = watch_soup.find('table',class_=\"table table-condensed item-table\")"
   ]
  },
  {
   "cell_type": "markdown",
   "metadata": {},
   "source": [
    "Table of Attributes"
   ]
  },
  {
   "cell_type": "code",
   "execution_count": null,
   "metadata": {
    "collapsed": true
   },
   "outputs": [],
   "source": [
    "stats_dict = dict()\n",
    "for ix, row in enumerate(stats.find_all('tr')):\n",
    "    tds = row.find_all('td')\n",
    "    k = tds[0].text\n",
    "    v = tds[1].text\n",
    "    \n",
    "    bad_vals = ['30m/99ft - 50m/165ft',\n",
    "                '50m/165ft - 100m/330ft',\n",
    "                '100m/330ft - 200m/660ft',\n",
    "                '200m/660ft - 500m/1650ft',\n",
    "                '500m/1650ft +',\n",
    "               'No rating']\n",
    "    if k == 'Movement':\n",
    "        stats_dict[k] = v.split('\\n')[0]\n",
    "    elif k in bad_vals:\n",
    "        break\n",
    "    \n",
    "    elif 'Water' in k:\n",
    "        stats_dict['Water Resistance'] = row.find_all('td')[-1].text\n",
    "    else:\n",
    "        stats_dict[k] = v"
   ]
  },
  {
   "cell_type": "code",
   "execution_count": null,
   "metadata": {
    "collapsed": true
   },
   "outputs": [],
   "source": [
    "stats_dict"
   ]
  },
  {
   "cell_type": "code",
   "execution_count": null,
   "metadata": {
    "collapsed": true
   },
   "outputs": [],
   "source": []
  },
  {
   "cell_type": "code",
   "execution_count": null,
   "metadata": {
    "collapsed": true
   },
   "outputs": [],
   "source": []
  },
  {
   "cell_type": "code",
   "execution_count": null,
   "metadata": {
    "collapsed": true
   },
   "outputs": [],
   "source": []
  },
  {
   "cell_type": "code",
   "execution_count": null,
   "metadata": {
    "collapsed": true
   },
   "outputs": [],
   "source": []
  }
 ],
 "metadata": {
  "kernelspec": {
   "display_name": "Python 3",
   "language": "python",
   "name": "python3"
  },
  "language_info": {
   "codemirror_mode": {
    "name": "ipython",
    "version": 3
   },
   "file_extension": ".py",
   "mimetype": "text/x-python",
   "name": "python",
   "nbconvert_exporter": "python",
   "pygments_lexer": "ipython3",
   "version": "3.6.1"
  }
 },
 "nbformat": 4,
 "nbformat_minor": 2
}
