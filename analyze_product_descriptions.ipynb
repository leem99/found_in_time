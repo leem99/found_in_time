{
 "cells": [
  {
   "cell_type": "markdown",
   "metadata": {},
   "source": [
    "## Analyze Watch Description Data"
   ]
  },
  {
   "cell_type": "code",
   "execution_count": 116,
   "metadata": {
    "collapsed": true
   },
   "outputs": [],
   "source": [
    "import pandas as pd\n",
    "import numpy as np\n",
    "import matplotlib.pyplot as plt\n",
    "\n",
    "\n",
    "pd.set_option(\"display.max_columns\",None)\n",
    "%matplotlib inline"
   ]
  },
  {
   "cell_type": "code",
   "execution_count": 117,
   "metadata": {},
   "outputs": [
    {
     "name": "stdout",
     "output_type": "stream",
     "text": [
      "additional_stats_mens.csv\t    prestige_time_pics_mens\r\n",
      "additional_stats_womens.csv\t    prestige_time_pics_womens\r\n",
      "all_watch_info.csv\t\t    README.md\r\n",
      "analyze_product_descriptions.ipynb  scrape_prestigetime_pages.ipynb\r\n",
      "get_links_and_pics.ipynb\t    watch_page_list_mens.csv\r\n",
      "prestige_time_pages_mens\t    watch_page_list_womens.csv\r\n",
      "prestige_time_pages_womens\r\n"
     ]
    }
   ],
   "source": [
    "! ls"
   ]
  },
  {
   "cell_type": "markdown",
   "metadata": {},
   "source": [
    "\"Main\" Watch Info"
   ]
  },
  {
   "cell_type": "code",
   "execution_count": 118,
   "metadata": {
    "collapsed": true
   },
   "outputs": [],
   "source": [
    "mens = pd.read_csv('watch_page_list_mens.csv')\n",
    "womens = pd.read_csv('watch_page_list_womens.csv')"
   ]
  },
  {
   "cell_type": "markdown",
   "metadata": {},
   "source": [
    "Additional Info from Watch's Page"
   ]
  },
  {
   "cell_type": "code",
   "execution_count": 119,
   "metadata": {
    "collapsed": true
   },
   "outputs": [],
   "source": [
    "mens_additional = pd.read_csv('additional_stats_mens.csv')\n",
    "womens_additional = pd.read_csv('additional_stats_womens.csv')"
   ]
  },
  {
   "cell_type": "markdown",
   "metadata": {},
   "source": [
    "Approx Number of Unique Mens Watches"
   ]
  },
  {
   "cell_type": "code",
   "execution_count": 120,
   "metadata": {},
   "outputs": [
    {
     "data": {
      "text/plain": [
       "6501"
      ]
     },
     "execution_count": 120,
     "metadata": {},
     "output_type": "execute_result"
    }
   ],
   "source": [
    "len(mens['image_url'].unique())"
   ]
  },
  {
   "cell_type": "markdown",
   "metadata": {},
   "source": [
    "__Explore Product Details__ \n",
    "\n",
    "Combine all data into a single DF"
   ]
  },
  {
   "cell_type": "code",
   "execution_count": 121,
   "metadata": {},
   "outputs": [],
   "source": [
    "mens_combo = mens.merge(mens_additional,how='inner',on='url')\n",
    "womens_combo = womens.merge(womens_additional,how='inner',on='url')\n",
    "\n",
    "# Add a Gender Label\n",
    "mens_combo['gender'] = 'mens'\n",
    "womens_combo['gender'] = 'womens'\n",
    "\n",
    "combo = mens_combo.append(womens_combo)"
   ]
  },
  {
   "cell_type": "markdown",
   "metadata": {},
   "source": [
    "Exclude Listings Without Photo"
   ]
  },
  {
   "cell_type": "code",
   "execution_count": 122,
   "metadata": {},
   "outputs": [],
   "source": [
    "combo = combo.loc[\n",
    "    combo['image_url']!='https://www.prestigetime.com/images/watches/pic-unavailable_main.jpg',:]"
   ]
  },
  {
   "cell_type": "markdown",
   "metadata": {},
   "source": [
    "Exclude \"Erotic\" Watches with blocked out photos"
   ]
  },
  {
   "cell_type": "code",
   "execution_count": 123,
   "metadata": {},
   "outputs": [],
   "source": [
    "bad_list= ['PerreletTurbine44mmA40204TURBINEEROTIC',\n",
    " 'PerreletTurbine44mmA40211TURBINEEROTIC']\n",
    "\n",
    "combo = combo.loc[combo['image_name'].isin(bad_list) == False,:]"
   ]
  },
  {
   "cell_type": "markdown",
   "metadata": {},
   "source": [
    "Exclude watches that have the exact same picture as another watch"
   ]
  },
  {
   "cell_type": "code",
   "execution_count": 124,
   "metadata": {},
   "outputs": [],
   "source": [
    "combo = combo.groupby('image_url').first().reset_index()"
   ]
  },
  {
   "cell_type": "markdown",
   "metadata": {},
   "source": [
    "### Let's Make Simplified Product Descriptions"
   ]
  },
  {
   "cell_type": "markdown",
   "metadata": {},
   "source": [
    "#### Create Additional labels"
   ]
  },
  {
   "cell_type": "code",
   "execution_count": 125,
   "metadata": {
    "collapsed": true
   },
   "outputs": [],
   "source": [
    "strap_words = ['Alligator & Rubber','Alligator/Crocodile Leather','Calfskin Leather',\n",
    "              'Fabric','Leather','Ostrich','Python Leather','Rubber','Satin','Stingray']"
   ]
  },
  {
   "cell_type": "markdown",
   "metadata": {},
   "source": [
    "For Now, white gold and platinum will be considered \"stainless steel\". Watches with any yellow, or rose gold, will be considered \"gold.\""
   ]
  },
  {
   "cell_type": "code",
   "execution_count": 126,
   "metadata": {},
   "outputs": [],
   "source": [
    "gold_words = ['18kt Rose Gold','Stainless Steel & Rose Gold',\n",
    "             '18kt Yellow Gold','18kt Everose Gold','Gold Plated',\n",
    "             'Stainless Steel & Plated Rose Gold','Stainless Steel & Plated Yellow Gold',\n",
    "             'Stainless Steel & Gold','Titanium & Rose Gold','Bronze',\n",
    "             '18kt Honey Gold','18kt Rose & White Gold',\n",
    "             'Ceramic and Gold']"
   ]
  },
  {
   "cell_type": "code",
   "execution_count": 127,
   "metadata": {
    "collapsed": true
   },
   "outputs": [],
   "source": [
    "combo['case_material_simple']  = [\n",
    "    'gold' if material in gold_words else 'not gold' for material in combo['Case Material'] ]\n",
    "\n",
    "combo['band_simple']  = [\n",
    "    'strap' if material in strap_words else 'braclet' for material in combo['Band Material'] ]"
   ]
  },
  {
   "cell_type": "markdown",
   "metadata": {},
   "source": [
    "### Save Combined Data Frame"
   ]
  },
  {
   "cell_type": "code",
   "execution_count": 128,
   "metadata": {
    "collapsed": true
   },
   "outputs": [],
   "source": [
    "combo.to_csv('all_watch_info.csv',index = False)"
   ]
  },
  {
   "cell_type": "markdown",
   "metadata": {},
   "source": [
    "# Exploratory Analysis"
   ]
  },
  {
   "cell_type": "code",
   "execution_count": 129,
   "metadata": {},
   "outputs": [
    {
     "data": {
      "text/plain": [
       "<matplotlib.text.Text at 0x7f5475964160>"
      ]
     },
     "execution_count": 129,
     "metadata": {},
     "output_type": "execute_result"
    },
    {
     "data": {
      "image/png": "[encoded data removed]",
      "text/plain": [
       "<matplotlib.figure.Figure at 0x7f54813455c0>"
      ]
     },
     "metadata": {},
     "output_type": "display_data"
    }
   ],
   "source": [
    "price_bins = np.arange(0,1000000,2000)\n",
    "plt.figure(figsize=(10,5))\n",
    "combo.price.hist(bins = price_bins )\n",
    "plt.xlabel('Price (USD)',size =12)\n",
    "plt.ylabel('Number of Watches',size = 12)\n",
    "plt.title('Distribution of Mens Watch Prices',size = 14)"
   ]
  },
  {
   "cell_type": "code",
   "execution_count": 130,
   "metadata": {},
   "outputs": [
    {
     "data": {
      "text/plain": [
       "case_material_simple\n",
       "gold        3211\n",
       "not gold    7316\n",
       "Name: brand, dtype: int64"
      ]
     },
     "execution_count": 130,
     "metadata": {},
     "output_type": "execute_result"
    }
   ],
   "source": [
    "combo.groupby('case_material_simple').count()['brand'].sort_values()"
   ]
  },
  {
   "cell_type": "code",
   "execution_count": 131,
   "metadata": {},
   "outputs": [
    {
     "data": {
      "text/plain": [
       "Case Shape\n",
       "Cushion       104\n",
       "Tonneau       124\n",
       "Oval          137\n",
       "Polygon       152\n",
       "Rectangle     348\n",
       "Square        591\n",
       "Round        9070\n",
       "Name: brand, dtype: int64"
      ]
     },
     "execution_count": 131,
     "metadata": {},
     "output_type": "execute_result"
    }
   ],
   "source": [
    "combo.groupby('Case Shape').count()['brand'].sort_values()"
   ]
  },
  {
   "cell_type": "code",
   "execution_count": 132,
   "metadata": {},
   "outputs": [
    {
     "data": {
      "text/plain": [
       "band_simple\n",
       "braclet    4569\n",
       "strap      5958\n",
       "Name: brand, dtype: int64"
      ]
     },
     "execution_count": 132,
     "metadata": {},
     "output_type": "execute_result"
    }
   ],
   "source": [
    "combo.groupby('band_simple').count()['brand']"
   ]
  },
  {
   "cell_type": "code",
   "execution_count": null,
   "metadata": {},
   "outputs": [],
   "source": []
  },
  {
   "cell_type": "code",
   "execution_count": null,
   "metadata": {
    "collapsed": true
   },
   "outputs": [],
   "source": []
  },
  {
   "cell_type": "code",
   "execution_count": null,
   "metadata": {
    "collapsed": true
   },
   "outputs": [],
   "source": []
  }
 ],
 "metadata": {
  "kernelspec": {
   "display_name": "Python 3",
   "language": "python",
   "name": "python3"
  },
  "language_info": {
   "codemirror_mode": {
    "name": "ipython",
    "version": 3
   },
   "file_extension": ".py",
   "mimetype": "text/x-python",
   "name": "python",
   "nbconvert_exporter": "python",
   "pygments_lexer": "ipython3",
   "version": "3.6.1"
  }
 },
 "nbformat": 4,
 "nbformat_minor": 2
}
