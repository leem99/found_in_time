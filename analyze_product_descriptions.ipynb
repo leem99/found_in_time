{
 "cells": [
  {
   "cell_type": "markdown",
   "metadata": {},
   "source": [
    "## Analyze Watch Description Data"
   ]
  },
  {
   "cell_type": "code",
   "execution_count": 72,
   "metadata": {
    "collapsed": true
   },
   "outputs": [],
   "source": [
    "import pandas as pd\n",
    "import numpy as np\n",
    "import matplotlib.pyplot as plt\n",
    "\n",
    "\n",
    "pd.set_option(\"display.max_columns\",None)\n",
    "%matplotlib inline"
   ]
  },
  {
   "cell_type": "code",
   "execution_count": 7,
   "metadata": {},
   "outputs": [
    {
     "name": "stdout",
     "output_type": "stream",
     "text": [
      "additional_stats_men.csv\t    scrape_jomashop.ipynb\r\n",
      "analyze_product_descriptions.ipynb  scrape_prestigetime_pages.ipynb\r\n",
      "prestige_time_pics_men\t\t    watch_page_list_men.csv\r\n",
      "prestige_time_pics_womens\t    watch_page_list_womens.csv\r\n",
      "README.md\r\n"
     ]
    }
   ],
   "source": [
    "! ls"
   ]
  },
  {
   "cell_type": "markdown",
   "metadata": {},
   "source": [
    "\"Main\" Watch Info"
   ]
  },
  {
   "cell_type": "code",
   "execution_count": 3,
   "metadata": {
    "collapsed": true
   },
   "outputs": [],
   "source": [
    "mens = pd.read_csv('watch_page_list_men.csv')\n",
    "womens = pd.read_csv('watch_page_list_womens.csv')"
   ]
  },
  {
   "cell_type": "markdown",
   "metadata": {},
   "source": [
    "Additional Info from Watch's Page"
   ]
  },
  {
   "cell_type": "code",
   "execution_count": 23,
   "metadata": {
    "collapsed": true
   },
   "outputs": [],
   "source": [
    "mens_additional = pd.read_csv('additional_stats_men.csv')"
   ]
  },
  {
   "cell_type": "markdown",
   "metadata": {},
   "source": [
    "Approx Number of Unique Mens Watches"
   ]
  },
  {
   "cell_type": "code",
   "execution_count": 10,
   "metadata": {},
   "outputs": [
    {
     "data": {
      "text/plain": [
       "6501"
      ]
     },
     "execution_count": 10,
     "metadata": {},
     "output_type": "execute_result"
    }
   ],
   "source": [
    "len(mens['image_url'].unique())"
   ]
  },
  {
   "cell_type": "markdown",
   "metadata": {},
   "source": [
    "Exclude Listings Without Photo"
   ]
  },
  {
   "cell_type": "code",
   "execution_count": 18,
   "metadata": {
    "collapsed": true
   },
   "outputs": [],
   "source": [
    "mens = mens.loc[mens['image_name'] != 'https://www.prestigetime.com/images/watches/pic-unavailable_main.jpg',:]\n",
    "womens = womens.loc[womens['image_name'] != 'https://www.prestigetime.com/images/watches/pic-unavailable_main.jpg',:]"
   ]
  },
  {
   "cell_type": "markdown",
   "metadata": {},
   "source": [
    "__Explore Product Details__ \n",
    "\n",
    "Men's only until other scraper finishes"
   ]
  },
  {
   "cell_type": "code",
   "execution_count": 33,
   "metadata": {
    "collapsed": true
   },
   "outputs": [],
   "source": [
    "mens_combo = mens.merge(mens_additional,how='inner',on='url')"
   ]
  },
  {
   "cell_type": "markdown",
   "metadata": {},
   "source": [
    "Watches by price"
   ]
  },
  {
   "cell_type": "code",
   "execution_count": 69,
   "metadata": {},
   "outputs": [
    {
     "data": {
      "text/plain": [
       "<matplotlib.text.Text at 0x7f925da4fb38>"
      ]
     },
     "execution_count": 69,
     "metadata": {},
     "output_type": "execute_result"
    },
    {
     "data": {
      "image/png": "[encoded data removed]",
      "text/plain": [
       "<matplotlib.figure.Figure at 0x7f925e08da90>"
      ]
     },
     "metadata": {},
     "output_type": "display_data"
    }
   ],
   "source": [
    "price_bins = np.arange(0,1000000,2000)\n",
    "plt.figure(figsize=(10,5))\n",
    "mens_combo.price.hist(bins = price_bins )\n",
    "plt.xlabel('Price (USD)',size =12)\n",
    "plt.ylabel('Number of Watches',size = 12)\n",
    "plt.title('Distribution of Mens Watch Prices',size = 14)"
   ]
  },
  {
   "cell_type": "code",
   "execution_count": 81,
   "metadata": {},
   "outputs": [
    {
     "data": {
      "text/plain": [
       "Case Material\n",
       "Zalium                                     1\n",
       "18kt Honey Gold                            1\n",
       "Palladium 950                              1\n",
       "Titanium & Platinum                        1\n",
       "Alloy                                      1\n",
       "PVD & Steel                                1\n",
       "Titanium & White Gold                      1\n",
       "Ceramic and Gold                           1\n",
       "Titanium & Steel                           2\n",
       "PVD Coated Titanium                        2\n",
       "PVD & Rose Gold                            2\n",
       "Forged Carbon                              2\n",
       "Silver                                     2\n",
       "Aluminum                                   3\n",
       "Black titanium coated steel                3\n",
       "Bronze                                     5\n",
       "ADLC                                       6\n",
       "Sapphire Crystal                           7\n",
       "Rubber Clad Stainless Steel               10\n",
       "Titanium & Rose Gold                      14\n",
       "Gold Plated                               15\n",
       "Breitling Black Titanium                  16\n",
       "Breitlight - Ultralight Polymer           16\n",
       "DLC Coated Stainless Steel                18\n",
       "Breitling Blacksteel Steel                20\n",
       "Stainless Steel Brushed & Polished        21\n",
       "Stainless Steel & Gold                    22\n",
       "PVD                                       22\n",
       "Carbon Fiber                              26\n",
       "Stainless Steel & Plated Yellow Gold      26\n",
       "Black PVD                                 29\n",
       "Stainless Steel & Plated Rose Gold        32\n",
       "Platinum                                 113\n",
       "18kt Everose Gold                        165\n",
       "Ceramic                                  174\n",
       "Stainless Steel & Yellow Gold            216\n",
       "18kt Yellow Gold                         282\n",
       "Titanium                                 298\n",
       "18kt White Gold                          339\n",
       "Stainless Steel & Rose Gold              433\n",
       "18kt Rose Gold                          1059\n",
       "Stainless Steel                         4150\n",
       "Name: brand, dtype: int64"
      ]
     },
     "execution_count": 81,
     "metadata": {},
     "output_type": "execute_result"
    }
   ],
   "source": [
    "mens_combo.groupby('Case Material').count()['brand'].sort_values()"
   ]
  },
  {
   "cell_type": "code",
   "execution_count": 85,
   "metadata": {},
   "outputs": [
    {
     "data": {
      "text/plain": [
       "Case Shape\n",
       "Oval           12\n",
       "Tonneau        55\n",
       "Polygon        85\n",
       "Cushion        86\n",
       "Rectangle     107\n",
       "Square        256\n",
       "Round        6961\n",
       "Name: brand, dtype: int64"
      ]
     },
     "execution_count": 85,
     "metadata": {},
     "output_type": "execute_result"
    }
   ],
   "source": [
    "mens_combo.groupby('Case Shape').count()['brand'].sort_values()"
   ]
  },
  {
   "cell_type": "code",
   "execution_count": 95,
   "metadata": {},
   "outputs": [
    {
     "data": {
      "text/html": [
       "<div>\n",
       "<style>\n",
       "    .dataframe thead tr:only-child th {\n",
       "        text-align: right;\n",
       "    }\n",
       "\n",
       "    .dataframe thead th {\n",
       "        text-align: left;\n",
       "    }\n",
       "\n",
       "    .dataframe tbody tr th {\n",
       "        vertical-align: top;\n",
       "    }\n",
       "</style>\n",
       "<table border=\"1\" class=\"dataframe\">\n",
       "  <thead>\n",
       "    <tr style=\"text-align: right;\">\n",
       "      <th></th>\n",
       "      <th>brand</th>\n",
       "      <th>image_name</th>\n",
       "      <th>image_url</th>\n",
       "      <th>model_name</th>\n",
       "      <th>model_num</th>\n",
       "      <th>price</th>\n",
       "      <th>url</th>\n",
       "      <th>Band Notes</th>\n",
       "      <th>Bezel</th>\n",
       "      <th>COSC Certified</th>\n",
       "      <th>Case Back</th>\n",
       "      <th>Case Dimensions</th>\n",
       "      <th>Case Material</th>\n",
       "      <th>Case Shape</th>\n",
       "      <th>Case Thickness</th>\n",
       "      <th>Clasp</th>\n",
       "      <th>Color/Finish</th>\n",
       "      <th>Complications</th>\n",
       "      <th>Condition</th>\n",
       "      <th>Crystal</th>\n",
       "      <th>Dial Color</th>\n",
       "      <th>Edition</th>\n",
       "      <th>Lug Width</th>\n",
       "      <th>Movement</th>\n",
       "      <th>Screw-in Crown</th>\n",
       "      <th>Water Resistance</th>\n",
       "    </tr>\n",
       "    <tr>\n",
       "      <th>Band Material</th>\n",
       "      <th></th>\n",
       "      <th></th>\n",
       "      <th></th>\n",
       "      <th></th>\n",
       "      <th></th>\n",
       "      <th></th>\n",
       "      <th></th>\n",
       "      <th></th>\n",
       "      <th></th>\n",
       "      <th></th>\n",
       "      <th></th>\n",
       "      <th></th>\n",
       "      <th></th>\n",
       "      <th></th>\n",
       "      <th></th>\n",
       "      <th></th>\n",
       "      <th></th>\n",
       "      <th></th>\n",
       "      <th></th>\n",
       "      <th></th>\n",
       "      <th></th>\n",
       "      <th></th>\n",
       "      <th></th>\n",
       "      <th></th>\n",
       "      <th></th>\n",
       "      <th></th>\n",
       "    </tr>\n",
       "  </thead>\n",
       "  <tbody>\n",
       "    <tr>\n",
       "      <th>Alligator/Crocodile Leather</th>\n",
       "      <td>61</td>\n",
       "      <td>61</td>\n",
       "      <td>61</td>\n",
       "      <td>61</td>\n",
       "      <td>61</td>\n",
       "      <td>61</td>\n",
       "      <td>61</td>\n",
       "      <td>2</td>\n",
       "      <td>48</td>\n",
       "      <td>2</td>\n",
       "      <td>61</td>\n",
       "      <td>61</td>\n",
       "      <td>61</td>\n",
       "      <td>61</td>\n",
       "      <td>59</td>\n",
       "      <td>61</td>\n",
       "      <td>61</td>\n",
       "      <td>44</td>\n",
       "      <td>61</td>\n",
       "      <td>61</td>\n",
       "      <td>61</td>\n",
       "      <td>10</td>\n",
       "      <td>9</td>\n",
       "      <td>61</td>\n",
       "      <td>57</td>\n",
       "      <td>0</td>\n",
       "    </tr>\n",
       "    <tr>\n",
       "      <th>Stainless Steel</th>\n",
       "      <td>3</td>\n",
       "      <td>3</td>\n",
       "      <td>3</td>\n",
       "      <td>3</td>\n",
       "      <td>3</td>\n",
       "      <td>3</td>\n",
       "      <td>3</td>\n",
       "      <td>0</td>\n",
       "      <td>0</td>\n",
       "      <td>0</td>\n",
       "      <td>3</td>\n",
       "      <td>3</td>\n",
       "      <td>3</td>\n",
       "      <td>3</td>\n",
       "      <td>3</td>\n",
       "      <td>3</td>\n",
       "      <td>3</td>\n",
       "      <td>1</td>\n",
       "      <td>3</td>\n",
       "      <td>3</td>\n",
       "      <td>3</td>\n",
       "      <td>0</td>\n",
       "      <td>3</td>\n",
       "      <td>3</td>\n",
       "      <td>3</td>\n",
       "      <td>0</td>\n",
       "    </tr>\n",
       "  </tbody>\n",
       "</table>\n",
       "</div>"
      ],
      "text/plain": [
       "                             brand  image_name  image_url  model_name  \\\n",
       "Band Material                                                           \n",
       "Alligator/Crocodile Leather     61          61         61          61   \n",
       "Stainless Steel                  3           3          3           3   \n",
       "\n",
       "                             model_num  price  url  Band Notes  Bezel  \\\n",
       "Band Material                                                           \n",
       "Alligator/Crocodile Leather         61     61   61           2     48   \n",
       "Stainless Steel                      3      3    3           0      0   \n",
       "\n",
       "                             COSC Certified  Case Back  Case Dimensions  \\\n",
       "Band Material                                                             \n",
       "Alligator/Crocodile Leather               2         61               61   \n",
       "Stainless Steel                           0          3                3   \n",
       "\n",
       "                             Case Material  Case Shape  Case Thickness  Clasp  \\\n",
       "Band Material                                                                   \n",
       "Alligator/Crocodile Leather             61          61              59     61   \n",
       "Stainless Steel                          3           3               3      3   \n",
       "\n",
       "                             Color/Finish  Complications  Condition  Crystal  \\\n",
       "Band Material                                                                  \n",
       "Alligator/Crocodile Leather            61             44         61       61   \n",
       "Stainless Steel                         3              1          3        3   \n",
       "\n",
       "                             Dial Color  Edition  Lug Width  Movement  \\\n",
       "Band Material                                                           \n",
       "Alligator/Crocodile Leather          61       10          9        61   \n",
       "Stainless Steel                       3        0          3         3   \n",
       "\n",
       "                             Screw-in Crown  Water Resistance  \n",
       "Band Material                                                  \n",
       "Alligator/Crocodile Leather              57                 0  \n",
       "Stainless Steel                           3                 0  "
      ]
     },
     "execution_count": 95,
     "metadata": {},
     "output_type": "execute_result"
    }
   ],
   "source": [
    "mens_combo.groupby('Band Material').count()"
   ]
  },
  {
   "cell_type": "code",
   "execution_count": 101,
   "metadata": {},
   "outputs": [
    {
     "data": {
      "text/plain": [
       "Dial Color\n",
       "Beige                          6\n",
       "Black                       2343\n",
       "Black & Grey                  25\n",
       "Black & Silver                16\n",
       "Black & White                  4\n",
       "Black Mother of Pearl         34\n",
       "Blue                         892\n",
       "Blue & Black                  15\n",
       "Blue Mother of Pearl           3\n",
       "Bronze                        74\n",
       "Brown                        169\n",
       "Bull's Eye Stone - Brown       6\n",
       "Burgundy                       7\n",
       "Champagne                    112\n",
       "Cognac                         3\n",
       "Copper                         2\n",
       "Diamonds                      39\n",
       "Gold                          10\n",
       "Green                         32\n",
       "Grey                         432\n",
       "Ice Blue                      12\n",
       "Ivory                         64\n",
       "Meteorite                     16\n",
       "Meteorite - Silver             6\n",
       "Mother of Pearl              235\n",
       "Off White                     25\n",
       "Orange                         1\n",
       "Pink                          49\n",
       "Pink Mother of Pearl           5\n",
       "Purple                         2\n",
       "Red                           12\n",
       "Rhodium                       37\n",
       "Ruthenium                     16\n",
       "Silver                      2021\n",
       "Silver & Grey                  9\n",
       "Silver & Rhodium               2\n",
       "Skeleton                     193\n",
       "Slate Grey                     4\n",
       "Steel                         29\n",
       "Sundust                       13\n",
       "White                        570\n",
       "White & Black                  1\n",
       "Yellow                        17\n",
       "Name: url, dtype: int64"
      ]
     },
     "execution_count": 101,
     "metadata": {},
     "output_type": "execute_result"
    }
   ],
   "source": [
    "mens_additional.groupby('Dial Color').count()['url']"
   ]
  },
  {
   "cell_type": "code",
   "execution_count": null,
   "metadata": {},
   "outputs": [],
   "source": []
  },
  {
   "cell_type": "code",
   "execution_count": null,
   "metadata": {
    "collapsed": true
   },
   "outputs": [],
   "source": []
  }
 ],
 "metadata": {
  "kernelspec": {
   "display_name": "Python 3",
   "language": "python",
   "name": "python3"
  },
  "language_info": {
   "codemirror_mode": {
    "name": "ipython",
    "version": 3
   },
   "file_extension": ".py",
   "mimetype": "text/x-python",
   "name": "python",
   "nbconvert_exporter": "python",
   "pygments_lexer": "ipython3",
   "version": "3.6.1"
  }
 },
 "nbformat": 4,
 "nbformat_minor": 2
}
